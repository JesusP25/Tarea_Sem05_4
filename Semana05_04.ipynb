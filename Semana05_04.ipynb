{
  "nbformat": 4,
  "nbformat_minor": 0,
  "metadata": {
    "colab": {
      "provenance": []
    },
    "kernelspec": {
      "name": "python3",
      "display_name": "Python 3"
    },
    "language_info": {
      "name": "python"
    }
  },
  "cells": [
    {
      "cell_type": "markdown",
      "source": [
        "# SEMANA 05 - Lunes 29 / 04 / 2024\n",
        "# Mg. Flor Elizabeth Cerdán León"
      ],
      "metadata": {
        "id": "x026pjmpPLFU"
      }
    },
    {
      "cell_type": "markdown",
      "source": [
        "Temas\n",
        "1. Colecciones de datos\n",
        "2. Estructuras Decisivas y Estructuras Repetitivas\n",
        "3. Funciones\n",
        "4. Clases y Objetos"
      ],
      "metadata": {
        "id": "8IP3nQVEPOLD"
      }
    },
    {
      "cell_type": "markdown",
      "source": [
        "4. Clases y Objetos"
      ],
      "metadata": {
        "id": "twRQc4sUPPJj"
      }
    },
    {
      "cell_type": "markdown",
      "source": [
        "    Clase y Obejetos"
      ],
      "metadata": {
        "id": "9_pd5y10EIjb"
      }
    },
    {
      "cell_type": "markdown",
      "source": [
        "  CREACION DE UNA CLASE"
      ],
      "metadata": {
        "id": "ooT1yFyCFWko"
      }
    },
    {
      "cell_type": "code",
      "execution_count": 28,
      "metadata": {
        "id": "10Nl4V_fDz1i"
      },
      "outputs": [],
      "source": [
        "# Creamos una CLASE\n",
        "# Llamaremos a la clase CLIENTE\n",
        "\n",
        "class cita:\n",
        "  # Definimos valores la clase CLIENTE\n",
        "  nombre=\"\"\n",
        "  apellido=\"\"\n",
        "  dni=\"\"\n",
        "  cita=\"\"\n",
        "  hora_cita=\"\"\n"
      ]
    },
    {
      "cell_type": "markdown",
      "source": [
        "CREACIÓN DE UN OBJETO"
      ],
      "metadata": {
        "id": "toMx5hk9FVDh"
      }
    },
    {
      "cell_type": "markdown",
      "source": [
        "    Ingreso POR TECLADO LOS DATOS DEL OBJETO"
      ],
      "metadata": {
        "id": "JexjFzKxGfND"
      }
    },
    {
      "cell_type": "code",
      "source": [
        "# Creamos un Objeto\n",
        "# Llamaremos al objeto PACIENTE\n",
        "# Lo crearemos dentro de la CLASE CITA\n",
        "\n",
        "paciente = cita()\n",
        "\n",
        "# Asignamos valores al Objeto Creado\n",
        "\n",
        "# ESCRIBIMOS LOS DATOS DEL PACIENTE POR TECLADO\n",
        "paciente.nombre =str(input(\"Digite su nombre: \"))\n",
        "paciente.apellido = str(input(\"Indique su apellido: \"))\n",
        "paciente.dni = int(input(\"Ingrese en número de su DNI: \"))\n",
        "paciente.cita = input(\"Indique el dia de su cita: \")\n",
        "paciente.hora_cita = input(\"Indique la hora de su cita programada: \")\n"
      ],
      "metadata": {
        "colab": {
          "base_uri": "https://localhost:8080/"
        },
        "id": "kUNNs6xnFdKQ",
        "outputId": "3b4f21a9-e82a-409c-a4ff-25bd055054ca"
      },
      "execution_count": 29,
      "outputs": [
        {
          "name": "stdout",
          "output_type": "stream",
          "text": [
            "Digite su nombre: Josmer\n",
            "Indique su apellido: Azcarate Valladolid\n",
            "Ingrese en número de su DNI: 25072017\n",
            "Indique el dia de su cita: 04 De Octubre del 2019\n",
            "Indique la hora de su cita programada: 08:04am\n"
          ]
        }
      ]
    },
    {
      "cell_type": "code",
      "source": [
        "''' # OBS: Si queremos que los objetos esten definidos solo hacemos:\n",
        "\n",
        "class Persona:\n",
        "    nombre = \"\"\n",
        "    apellidos = \"\"\n",
        "    nac = \"\"\n",
        "    dni = \"\"\n",
        "    talla = 0\n",
        "\n",
        "    #Creación del objeto persona1\n",
        "persona1 = Persona()\n",
        "\n",
        "# Asignamos valores al objeto\n",
        "persona1.nombre = \"Jesus\"\n",
        "persona1.apellidos = \"Payé Juárez\"\n",
        "persona1.dni = \"73261370\"\n",
        "persona1.talla = 1.7\n",
        "\n",
        "# Para mostrar valores del objeto:\n",
        "# Imprimimos\n",
        "\n",
        "print(f\"Nombre: {persona1.nombre}\")\n",
        "print(f\"Apellidos: {persona1.apellidos}\")\n",
        "print(f\"DNI: {persona1.dni}\")\n",
        "print(f\"Talla: {persona1.talla}\")          '''"
      ],
      "metadata": {
        "id": "fgV-RSWQM-kr"
      },
      "execution_count": null,
      "outputs": []
    },
    {
      "cell_type": "markdown",
      "source": [
        "MOSTRAR LOS OBJETOS CREADOS"
      ],
      "metadata": {
        "id": "4lRHAWzTI6sm"
      }
    },
    {
      "cell_type": "code",
      "source": [
        "# Mostramos los valores del objetos que hemos creado\n",
        "print(f\"\\nNombre del paciente: {paciente.nombre}\")\n",
        "print(f\"\\nApellido del paciente: {paciente.apellido}\")\n",
        "print(f\"\\nDNI del paciente: {paciente.dni}\")\n",
        "print(f\"\\nEl dia de su cita es: {paciente.cita}\")\n",
        "print(\"\\nEl horario correspondiente a su cita es: \", paciente.hora_cita)"
      ],
      "metadata": {
        "colab": {
          "base_uri": "https://localhost:8080/"
        },
        "id": "7pEYUTA0JASm",
        "outputId": "dd9ab04a-a4e2-4d8c-a2cf-3e49645de184"
      },
      "execution_count": 30,
      "outputs": [
        {
          "output_type": "stream",
          "name": "stdout",
          "text": [
            "\n",
            "Nombre del paciente: Josmer\n",
            "\n",
            "Apellido del paciente: Azcarate Valladolid\n",
            "\n",
            "DNI del paciente: 25072017\n",
            "\n",
            "El dia de su cita es: 04 De Octubre del 2019\n",
            "\n",
            "El horario correspondiente a su cita es:  08:04am\n"
          ]
        }
      ]
    },
    {
      "cell_type": "markdown",
      "source": [
        "CONTRUCTORES"
      ],
      "metadata": {
        "id": "LvZZGn41Pcpo"
      }
    },
    {
      "cell_type": "code",
      "source": [
        "# Para utilizar constructores utilizamos: __init__\n",
        "          # Obs : se pone dos guiones bajos _ _ pero juntos y luego init _ _\n",
        "# ¿Qué es un constructor?\n",
        "#     - Es un método\n",
        "#     - Sirve para inicializar valores a una clase"
      ],
      "metadata": {
        "id": "8nN3VI99PjTH"
      },
      "execution_count": 31,
      "outputs": []
    },
    {
      "cell_type": "markdown",
      "source": [
        "      CREAR UN CONTRUCTOR"
      ],
      "metadata": {
        "id": "H6VulEuaRaPe"
      }
    },
    {
      "cell_type": "code",
      "source": [
        "#Problema 02:\n",
        "\n",
        "# Crear la siguiente clase y utilizar constructores:\n",
        "#  - Clase: Matricula\n",
        "#  - Atributos: Curso, Código, Nombre, horas, creditos, dias\n",
        "\n",
        "class matricula:\n",
        "# Definimos los atributos\n",
        "  def __init__(self,curso,codigo,nombre_alumno,horas,creditos,dias):     # self INICIALIZA LOS ATRIBUTOS QUE HEMOS COLOCADO EN UNA CLASE\n",
        "      self.curso = curso\n",
        "      self.codigo=codigo\n",
        "      self.nombre_alumno =nombre_alumno\n",
        "      self.horas = horas\n",
        "      self.creditos= creditos\n",
        "      self.dias = dias\n",
        "\n",
        "  # Definimos la muestra para los datos del constructor\n",
        "  def mostrar_datos_matricula(self):\n",
        "      print(f\"Nombre del Curso: {self.curso}\")\n",
        "      print(f\"Nombre del alumno: {self.nombre_alumno}\")\n",
        "      print(f\"Ingrese su codigo del alumno: {self.codigo}\")\n",
        "      print(f\"Las horas a tomar el curso: {self.horas}\")\n",
        "      print(f\"Ingrese los creditos del cruso: {self.creditos}\")\n",
        "      print(f\"Los dias a llevar el curso: {self.dias}\")\n"
      ],
      "metadata": {
        "id": "eLTz0RFrP5cz"
      },
      "execution_count": 43,
      "outputs": []
    },
    {
      "cell_type": "code",
      "source": [
        "# Creamos el objeto curso1 y le mandamos parámetros\n",
        "curso1 = matricula(\"Calculo\",\"Jesús Payé\",\"IS2024\",6,3,2)"
      ],
      "metadata": {
        "id": "1AGwnVRdUkoH"
      },
      "execution_count": 44,
      "outputs": []
    },
    {
      "cell_type": "code",
      "source": [
        "# Mostramos los datos completos del curso, ejecutando el metodo mostrar_datos_curso()\n",
        "curso1.mostrar_datos_matricula();"
      ],
      "metadata": {
        "colab": {
          "base_uri": "https://localhost:8080/"
        },
        "id": "dOmJCUjbUlJQ",
        "outputId": "7b679e1b-e1c1-4ad3-9202-2d73b03ec8dd"
      },
      "execution_count": 45,
      "outputs": [
        {
          "output_type": "stream",
          "name": "stdout",
          "text": [
            "Nombre del Curso: Calculo\n",
            "Nombre del alumno: IS2024\n",
            "Ingrese su codigo del alumno: Jesús Payé\n",
            "Las horas a tomar el curso: 6\n",
            "Ingrese los creditos del cruso: 3\n",
            "Los dias a llevar el curso: 2\n"
          ]
        }
      ]
    }
  ]
}